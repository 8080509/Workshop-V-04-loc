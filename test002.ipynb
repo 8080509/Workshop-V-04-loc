{
 "cells": [
  {
   "cell_type": "code",
   "execution_count": null,
   "metadata": {},
   "outputs": [],
   "source": [
    "from data_src import train_txf, test"
   ]
  },
  {
   "cell_type": "code",
   "execution_count": 2,
   "metadata": {},
   "outputs": [
    {
     "name": "stdout",
     "output_type": "stream",
     "text": [
      "              id       date  store_nbr  family     sales  onpromotion   day\n",
      "0              0 2013-01-01          0       0     0.000            0     0\n",
      "1              1 2013-01-01          0       1     0.000            0     0\n",
      "2              2 2013-01-01          0       2     0.000            0     0\n",
      "3              3 2013-01-01          0       3     0.000            0     0\n",
      "4              4 2013-01-01          0       4     0.000            0     0\n",
      "...          ...        ...        ...     ...       ...          ...   ...\n",
      "3000883  3000883 2017-08-15          8      28   438.133            0  1687\n",
      "3000884  3000884 2017-08-15          8      29   154.553            1  1687\n",
      "3000885  3000885 2017-08-15          8      30  2419.729          148  1687\n",
      "3000886  3000886 2017-08-15          8      31   121.000            8  1687\n",
      "3000887  3000887 2017-08-15          8      32    16.000            0  1687\n",
      "\n",
      "[3000888 rows x 7 columns]\n"
     ]
    }
   ],
   "source": [
    "print(train_txf)"
   ]
  },
  {
   "cell_type": "code",
   "execution_count": 4,
   "metadata": {},
   "outputs": [
    {
     "data": {
      "text/plain": [
       "0          1\n",
       "1          1\n",
       "2          1\n",
       "3          1\n",
       "4          1\n",
       "          ..\n",
       "3000883    1\n",
       "3000884    1\n",
       "3000885    1\n",
       "3000886    1\n",
       "3000887    1\n",
       "Name: date, Length: 3000888, dtype: int32"
      ]
     },
     "execution_count": 4,
     "metadata": {},
     "output_type": "execute_result"
    }
   ],
   "source": [
    "train_txf['date'].dt.day_of_week"
   ]
  },
  {
   "cell_type": "code",
   "execution_count": 5,
   "metadata": {},
   "outputs": [
    {
     "data": {
      "text/plain": [
       "0            0\n",
       "1            0\n",
       "2            0\n",
       "3            0\n",
       "4            0\n",
       "          ... \n",
       "3000883      0\n",
       "3000884      1\n",
       "3000885    148\n",
       "3000886      8\n",
       "3000887      0\n",
       "Name: onpromotion, Length: 3000888, dtype: int64"
      ]
     },
     "execution_count": 5,
     "metadata": {},
     "output_type": "execute_result"
    }
   ],
   "source": [
    "test[(test[\"store_nbr\"] == store_number) & (test[\"family\"] == product_family)].copy()"
   ]
  }
 ],
 "metadata": {
  "kernelspec": {
   "display_name": "Python 3",
   "language": "python",
   "name": "python3"
  },
  "language_info": {
   "codemirror_mode": {
    "name": "ipython",
    "version": 3
   },
   "file_extension": ".py",
   "mimetype": "text/x-python",
   "name": "python",
   "nbconvert_exporter": "python",
   "pygments_lexer": "ipython3",
   "version": "3.11.9"
  }
 },
 "nbformat": 4,
 "nbformat_minor": 2
}
