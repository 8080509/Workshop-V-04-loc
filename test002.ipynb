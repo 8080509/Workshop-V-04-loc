{
 "cells": [
  {
   "cell_type": "code",
   "execution_count": 1,
   "metadata": {},
   "outputs": [],
   "source": [
    "from data_src import train_txf"
   ]
  },
  {
   "cell_type": "code",
   "execution_count": 2,
   "metadata": {},
   "outputs": [
    {
     "name": "stdout",
     "output_type": "stream",
     "text": [
      "              id  date  store_nbr  family     sales  onpromotion\n",
      "0              0     0          0       0     0.000            0\n",
      "1              1     0          0       1     0.000            0\n",
      "2              2     0          0       2     0.000            0\n",
      "3              3     0          0       3     0.000            0\n",
      "4              4     0          0       4     0.000            0\n",
      "...          ...   ...        ...     ...       ...          ...\n",
      "3000883  3000883  1687          8      28   438.133            0\n",
      "3000884  3000884  1687          8      29   154.553            1\n",
      "3000885  3000885  1687          8      30  2419.729          148\n",
      "3000886  3000886  1687          8      31   121.000            8\n",
      "3000887  3000887  1687          8      32    16.000            0\n",
      "\n",
      "[3000888 rows x 6 columns]\n"
     ]
    }
   ],
   "source": [
    "print(train_txf)"
   ]
  },
  {
   "cell_type": "code",
   "execution_count": null,
   "metadata": {},
   "outputs": [],
   "source": []
  }
 ],
 "metadata": {
  "kernelspec": {
   "display_name": "Python 3",
   "language": "python",
   "name": "python3"
  },
  "language_info": {
   "codemirror_mode": {
    "name": "ipython",
    "version": 3
   },
   "file_extension": ".py",
   "mimetype": "text/x-python",
   "name": "python",
   "nbconvert_exporter": "python",
   "pygments_lexer": "ipython3",
   "version": "3.11.9"
  }
 },
 "nbformat": 4,
 "nbformat_minor": 2
}
