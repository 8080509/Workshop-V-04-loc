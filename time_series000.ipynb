{
 "cells": [
  {
   "cell_type": "code",
   "execution_count": null,
   "metadata": {},
   "outputs": [],
   "source": [
    "import pandas as pd\n",
    "import numpy as np\n",
    "import datetime as dt"
   ]
  },
  {
   "cell_type": "code",
   "execution_count": null,
   "metadata": {},
   "outputs": [],
   "source": []
  },
  {
   "cell_type": "code",
   "execution_count": null,
   "metadata": {},
   "outputs": [],
   "source": [
    "store_number = 10  # Change this to the desired store\n",
    "product_family = \"GROCERY I\"  # Change this to the desired product family\n",
    "\n",
    "dataTrain_filtered = dataTrain[(dataTrain[\"store_nbr\"] == store_number) & (dataTrain[\"family\"] == product_family)].copy()\n",
    "\n",
    "# Set the date as the index\n",
    "dataTrain_filtered.set_index(\"date\", inplace=True)\n",
    "\n",
    "# Keep only the sales column\n",
    "dataTrain_filtered = dataTrain_filtered[[\"sales\"]]\n",
    "\n",
    "# Sort\n",
    "dataTrain_filtered = dataTrain_filtered.sort_index()\n",
    "\n",
    "# Visualize sales over time\n",
    "plt.figure(figsize=(12, 5))\n",
    "plt.plot(dataTrain_filtered, label=f\"Sales for {product_family} at Store {store_number}\")\n",
    "plt.xlabel(\"Date\")\n",
    "plt.ylabel(\"Sales\")\n",
    "plt.title(\"Sales Time Series\")\n",
    "plt.legend()\n",
    "plt.show()"
   ]
  }
 ],
 "metadata": {
  "kernelspec": {
   "display_name": "Python 3",
   "language": "python",
   "name": "python3"
  },
  "language_info": {
   "name": "python",
   "version": "3.11.9"
  }
 },
 "nbformat": 4,
 "nbformat_minor": 2
}
