{
 "cells": [
  {
   "cell_type": "code",
   "execution_count": null,
   "metadata": {},
   "outputs": [],
   "source": [
    "import pandas as pd\n",
    "import numpy as np\n",
    "import datetime as dt\n",
    "\n",
    "# Replace the below file name for your layout if necessary\n",
    "train_raw = pd.read_csv('data/train.csv')\n",
    "train = train_raw # Todo:  Add split here\n",
    "\n",
    "# date_time conversion\n",
    "dates_dt = pd.to_datetime(train['date'])\n",
    "dates_dt_min = dates_dt.min()\n",
    "\n",
    "families = train['family'].unique()\n",
    "assert families.shape == (33,)\n",
    "fam_index = pd.DataFrame(data = np.arange(33), index = families)[0]\n",
    "\n",
    "# Here's the conversion\n",
    "train_txf = train.copy()\n",
    "train_txf['date'] = (pd.to_datetime(train['date']) - dates_dt_min).dt.days\n",
    "train_txf['store_nbr'] = train['store_nbr'] - 1\n",
    "train_txf['family'] = train['family'].apply(fam_index.get)\n",
    "\n",
    "# Allocate sales array\n",
    "sales_shape = (1688, 54, 33)\n",
    "sales = np.zeros(dtype = np.float64, shape = sales_shape)\n",
    "\n",
    "# Fill in the sales array\n",
    "for row in train_txf.itertuples():\n",
    "    day = row.date\n",
    "    store = row.store_nbr\n",
    "    fam = row.family\n",
    "    sales[day, store, fam] = row.sales"
   ]
  }
 ],
 "metadata": {
  "kernelspec": {
   "display_name": "Python 3",
   "language": "python",
   "name": "python3"
  },
  "language_info": {
   "name": "python",
   "version": "3.11.9"
  }
 },
 "nbformat": 4,
 "nbformat_minor": 2
}
